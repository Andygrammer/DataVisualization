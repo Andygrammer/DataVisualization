{
  "nbformat": 4,
  "nbformat_minor": 0,
  "metadata": {
    "colab": {
      "name": "ML_Step0_Titanic.ipynb",
      "provenance": [],
      "collapsed_sections": [
        "9r021RXxXRas",
        "yw6wm2MeX_hX",
        "Ys_qE3lOZAkt",
        "MKRbfjnAetB1"
      ],
      "authorship_tag": "ABX9TyN4c8747QLh6uTX2UF6BfZK",
      "include_colab_link": true
    },
    "kernelspec": {
      "name": "python3",
      "display_name": "Python 3"
    }
  },
  "cells": [
    {
      "cell_type": "markdown",
      "metadata": {
        "id": "view-in-github",
        "colab_type": "text"
      },
      "source": [
        "<a href=\"https://colab.research.google.com/github/Andygrammer/DataVisualization/blob/master/ML_Step0_Titanic.ipynb\" target=\"_parent\"><img src=\"https://colab.research.google.com/assets/colab-badge.svg\" alt=\"Open In Colab\"/></a>"
      ]
    },
    {
      "cell_type": "markdown",
      "metadata": {
        "id": "9r021RXxXRas",
        "colab_type": "text"
      },
      "source": [
        "# Main description"
      ]
    },
    {
      "cell_type": "markdown",
      "metadata": {
        "id": "lZE7yiFYXVqJ",
        "colab_type": "text"
      },
      "source": [
        "The Titanic is the very first challenge of Kaggle competition.\n",
        "\n",
        "\"The competition is simple: use machine learning to create a model that predicts which passengers survived the Titanic shipwreck.\"\n",
        "\n",
        "Source: https://www.kaggle.com/c/titanic"
      ]
    },
    {
      "cell_type": "markdown",
      "metadata": {
        "id": "yw6wm2MeX_hX",
        "colab_type": "text"
      },
      "source": [
        "# 1. Load libraries"
      ]
    },
    {
      "cell_type": "code",
      "metadata": {
        "id": "ZewaUeEmXLzK",
        "colab_type": "code",
        "colab": {}
      },
      "source": [
        "import numpy as np\n",
        "import pandas as pd\n",
        "from sklearn.ensemble import RandomForestClassifier\n",
        "from sklearn.model_selection import train_test_split\n",
        "from sklearn.model_selection import RepeatedKFold"
      ],
      "execution_count": 0,
      "outputs": []
    },
    {
      "cell_type": "markdown",
      "metadata": {
        "id": "Ys_qE3lOZAkt",
        "colab_type": "text"
      },
      "source": [
        "# 2. Load dataset"
      ]
    },
    {
      "cell_type": "code",
      "metadata": {
        "id": "KE6BuZdsZFWn",
        "colab_type": "code",
        "colab": {
          "base_uri": "https://localhost:8080/",
          "height": 204
        },
        "outputId": "5bd1a4b9-cdd1-4e0a-9968-508e3aa177d1"
      },
      "source": [
        "train = pd.read_csv(\"train.csv\")\n",
        "test = pd.read_csv(\"test.csv\")\n",
        "\n",
        "train.head()"
      ],
      "execution_count": 36,
      "outputs": [
        {
          "output_type": "execute_result",
          "data": {
            "text/html": [
              "<div>\n",
              "<style scoped>\n",
              "    .dataframe tbody tr th:only-of-type {\n",
              "        vertical-align: middle;\n",
              "    }\n",
              "\n",
              "    .dataframe tbody tr th {\n",
              "        vertical-align: top;\n",
              "    }\n",
              "\n",
              "    .dataframe thead th {\n",
              "        text-align: right;\n",
              "    }\n",
              "</style>\n",
              "<table border=\"1\" class=\"dataframe\">\n",
              "  <thead>\n",
              "    <tr style=\"text-align: right;\">\n",
              "      <th></th>\n",
              "      <th>PassengerId</th>\n",
              "      <th>Survived</th>\n",
              "      <th>Pclass</th>\n",
              "      <th>Name</th>\n",
              "      <th>Sex</th>\n",
              "      <th>Age</th>\n",
              "      <th>SibSp</th>\n",
              "      <th>Parch</th>\n",
              "      <th>Ticket</th>\n",
              "      <th>Fare</th>\n",
              "      <th>Cabin</th>\n",
              "      <th>Embarked</th>\n",
              "    </tr>\n",
              "  </thead>\n",
              "  <tbody>\n",
              "    <tr>\n",
              "      <th>0</th>\n",
              "      <td>1</td>\n",
              "      <td>0</td>\n",
              "      <td>3</td>\n",
              "      <td>Braund, Mr. Owen Harris</td>\n",
              "      <td>male</td>\n",
              "      <td>22.0</td>\n",
              "      <td>1</td>\n",
              "      <td>0</td>\n",
              "      <td>A/5 21171</td>\n",
              "      <td>7.2500</td>\n",
              "      <td>NaN</td>\n",
              "      <td>S</td>\n",
              "    </tr>\n",
              "    <tr>\n",
              "      <th>1</th>\n",
              "      <td>2</td>\n",
              "      <td>1</td>\n",
              "      <td>1</td>\n",
              "      <td>Cumings, Mrs. John Bradley (Florence Briggs Th...</td>\n",
              "      <td>female</td>\n",
              "      <td>38.0</td>\n",
              "      <td>1</td>\n",
              "      <td>0</td>\n",
              "      <td>PC 17599</td>\n",
              "      <td>71.2833</td>\n",
              "      <td>C85</td>\n",
              "      <td>C</td>\n",
              "    </tr>\n",
              "    <tr>\n",
              "      <th>2</th>\n",
              "      <td>3</td>\n",
              "      <td>1</td>\n",
              "      <td>3</td>\n",
              "      <td>Heikkinen, Miss. Laina</td>\n",
              "      <td>female</td>\n",
              "      <td>26.0</td>\n",
              "      <td>0</td>\n",
              "      <td>0</td>\n",
              "      <td>STON/O2. 3101282</td>\n",
              "      <td>7.9250</td>\n",
              "      <td>NaN</td>\n",
              "      <td>S</td>\n",
              "    </tr>\n",
              "    <tr>\n",
              "      <th>3</th>\n",
              "      <td>4</td>\n",
              "      <td>1</td>\n",
              "      <td>1</td>\n",
              "      <td>Futrelle, Mrs. Jacques Heath (Lily May Peel)</td>\n",
              "      <td>female</td>\n",
              "      <td>35.0</td>\n",
              "      <td>1</td>\n",
              "      <td>0</td>\n",
              "      <td>113803</td>\n",
              "      <td>53.1000</td>\n",
              "      <td>C123</td>\n",
              "      <td>S</td>\n",
              "    </tr>\n",
              "    <tr>\n",
              "      <th>4</th>\n",
              "      <td>5</td>\n",
              "      <td>0</td>\n",
              "      <td>3</td>\n",
              "      <td>Allen, Mr. William Henry</td>\n",
              "      <td>male</td>\n",
              "      <td>35.0</td>\n",
              "      <td>0</td>\n",
              "      <td>0</td>\n",
              "      <td>373450</td>\n",
              "      <td>8.0500</td>\n",
              "      <td>NaN</td>\n",
              "      <td>S</td>\n",
              "    </tr>\n",
              "  </tbody>\n",
              "</table>\n",
              "</div>"
            ],
            "text/plain": [
              "   PassengerId  Survived  Pclass  ...     Fare Cabin  Embarked\n",
              "0            1         0       3  ...   7.2500   NaN         S\n",
              "1            2         1       1  ...  71.2833   C85         C\n",
              "2            3         1       3  ...   7.9250   NaN         S\n",
              "3            4         1       1  ...  53.1000  C123         S\n",
              "4            5         0       3  ...   8.0500   NaN         S\n",
              "\n",
              "[5 rows x 12 columns]"
            ]
          },
          "metadata": {
            "tags": []
          },
          "execution_count": 36
        }
      ]
    },
    {
      "cell_type": "markdown",
      "metadata": {
        "id": "MKRbfjnAetB1",
        "colab_type": "text"
      },
      "source": [
        "# 3. Prepare data"
      ]
    },
    {
      "cell_type": "code",
      "metadata": {
        "id": "8qxKLFpReyni",
        "colab_type": "code",
        "colab": {}
      },
      "source": [
        "vars = ['SEX_BINARY', 'Age', 'Pclass', 'SibSp', 'Parch', 'Fare']\n",
        "\n",
        "train['Sex'].value_counts()\n",
        "\n",
        "def convertSex(value):\n",
        "  if (value == 'female'):\n",
        "    return 1\n",
        "  return 0\n",
        "\n",
        "train['SEX_BINARY'] = train['Sex'].map(convertSex)\n",
        "test['SEX_BINARY'] = test['Sex'].map(convertSex)\n",
        "\n",
        "# Examples/Outputs\n",
        "x = train[vars]\n",
        "x = x.fillna(-1) # substitute NaN values by -1\n",
        "y = train['Survived']\n"
      ],
      "execution_count": 0,
      "outputs": []
    },
    {
      "cell_type": "markdown",
      "metadata": {
        "id": "mZbupNG3ZEN9",
        "colab_type": "text"
      },
      "source": [
        "# 4. Create model (Random Forest with 100 decision trees)"
      ]
    },
    {
      "cell_type": "code",
      "metadata": {
        "id": "W1THUKlVbxWF",
        "colab_type": "code",
        "colab": {
          "base_uri": "https://localhost:8080/",
          "height": 421
        },
        "outputId": "8d0d0ee7-7975-47f7-cb8d-5b511676fa3a"
      },
      "source": [
        "# Validation set 1 (random split)\n",
        "#np.random.seed(0)\n",
        "#x_train, x_valid, y_train, y_valid = train_test_split(x, y, test_size=0.5)\n",
        "#print(\"Acc: \", np.mean(y_valid == p))\n",
        "\n",
        "# Validation set 2 (cross validation - K-fold)\n",
        "results = []\n",
        "k = RepeatedKFold(n_splits=2, n_repeats=10, random_state=0)\n",
        "for examples, outputs in k.split(x):\n",
        "  #print(\"Train: \", examples.shape[0])\n",
        "  #print(\"Valid: \", outputs.shape[0])\n",
        "  #print()\n",
        "  x_train, x_valid = x.iloc[examples], x.iloc[outputs]\n",
        "  y_train, y_valid = y.iloc[examples], y.iloc[outputs]\n",
        "\n",
        "  # 4.1. training\n",
        "  model = RandomForestClassifier(n_estimators=100, n_jobs=-1, random_state=0)\n",
        "  model.fit(x_train, y_train)\n",
        "  p = model.predict(x_valid)\n",
        "\n",
        "  # 4.2. validation\n",
        "  y_valid = np.mean(y_valid == p)\n",
        "  results.append(y_valid)\n",
        "\n",
        "print(\"Acc by validation step: \", results)\n",
        "print(\"Acc mean: \", np.mean(results))\n",
        "print(\"Standard deviation: \", np.std(results))\n",
        "\n",
        "%pylab inline\n",
        "pylab.hist(results)\n",
        "print()"
      ],
      "execution_count": 32,
      "outputs": [
        {
          "output_type": "stream",
          "text": [
            "Acc by validation step:  [0.7937219730941704, 0.8314606741573034, 0.8116591928251121, 0.8157303370786517, 0.8094170403587444, 0.8, 0.8094170403587444, 0.7910112359550562, 0.7892376681614349, 0.8089887640449438, 0.7892376681614349, 0.8337078651685393, 0.7937219730941704, 0.7932584269662921, 0.7869955156950673, 0.8179775280898877, 0.8004484304932735, 0.7752808988764045, 0.8116591928251121, 0.8179775280898877]\n",
            "Acc mean:  0.8040454476747116\n",
            "Standard deviation:  0.014899029648072173\n",
            "Populating the interactive namespace from numpy and matplotlib\n",
            "\n"
          ],
          "name": "stdout"
        },
        {
          "output_type": "stream",
          "text": [
            "/usr/local/lib/python3.6/dist-packages/IPython/core/magics/pylab.py:161: UserWarning: pylab import has clobbered these variables: ['test']\n",
            "`%matplotlib` prevents importing * from pylab and numpy\n",
            "  \"\\n`%matplotlib` prevents importing * from pylab and numpy\"\n"
          ],
          "name": "stderr"
        },
        {
          "output_type": "display_data",
          "data": {
            "image/png": "[encoded data removed]",
            "text/plain": [
              "<Figure size 432x288 with 1 Axes>"
            ]
          },
          "metadata": {
            "tags": [],
            "needs_background": "light"
          }
        }
      ]
    },
    {
      "cell_type": "markdown",
      "metadata": {
        "id": "e-cuATLtiJwk",
        "colab_type": "text"
      },
      "source": [
        "# 5. Get results to submission"
      ]
    },
    {
      "cell_type": "code",
      "metadata": {
        "id": "_n3kRGygiOEX",
        "colab_type": "code",
        "colab": {
          "base_uri": "https://localhost:8080/",
          "height": 187
        },
        "outputId": "01278475-44b6-447f-b8df-0b8786b6c01c"
      },
      "source": [
        "# 5.1. Testing\n",
        "model = RandomForestClassifier(n_estimators=100, n_jobs=-1, random_state=0)\n",
        "model.fit(x, y)\n",
        "p = model.predict(test[vars].fillna(-1))\n",
        "\n",
        "# 5.2. Submission\n",
        "\n",
        "sub = pd.Series(p, index=test['PassengerId'], name='Survived')\n",
        "sub.shape\n",
        "sub.to_csv(\"Titanic1.csv\", header=True)\n",
        "!head -n10 Titanic1.csv"
      ],
      "execution_count": 40,
      "outputs": [
        {
          "output_type": "stream",
          "text": [
            "PassengerId,Survived\n",
            "892,0\n",
            "893,0\n",
            "894,1\n",
            "895,1\n",
            "896,0\n",
            "897,0\n",
            "898,0\n",
            "899,0\n",
            "900,1\n"
          ],
          "name": "stdout"
        }
      ]
    },
    {
      "cell_type": "code",
      "metadata": {
        "id": "eoDVoB9CjYaf",
        "colab_type": "code",
        "colab": {}
      },
      "source": [
        ""
      ],
      "execution_count": 0,
      "outputs": []
    }
  ]
}