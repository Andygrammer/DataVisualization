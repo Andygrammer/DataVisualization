{
  "nbformat": 4,
  "nbformat_minor": 0,
  "metadata": {
    "colab": {
      "name": "ML_Step0_Titanic.ipynb",
      "provenance": [],
      "collapsed_sections": [
        "9r021RXxXRas",
        "yw6wm2MeX_hX",
        "Ys_qE3lOZAkt",
        "MKRbfjnAetB1"
      ],
      "authorship_tag": "ABX9TyO0Oepq1KkVXlnFgt62sU3l",
      "include_colab_link": true
    },
    "kernelspec": {
      "name": "python3",
      "display_name": "Python 3"
    }
  },
  "cells": [
    {
      "cell_type": "markdown",
      "metadata": {
        "id": "view-in-github",
        "colab_type": "text"
      },
      "source": [
        "<a href=\"https://colab.research.google.com/github/Andygrammer/DataVisualization/blob/master/ML_Step0_Titanic.ipynb\" target=\"_parent\"><img src=\"https://colab.research.google.com/assets/colab-badge.svg\" alt=\"Open In Colab\"/></a>"
      ]
    },
    {
      "cell_type": "markdown",
      "metadata": {
        "id": "9r021RXxXRas",
        "colab_type": "text"
      },
      "source": [
        "# Main description"
      ]
    },
    {
      "cell_type": "markdown",
      "metadata": {
        "id": "lZE7yiFYXVqJ",
        "colab_type": "text"
      },
      "source": [
        "The Titanic is the very first challenge of Kaggle competition.\n",
        "\n",
        "\"The competition is simple: use machine learning to create a model that predicts which passengers survived the Titanic shipwreck.\"\n",
        "\n",
        "Source: https://www.kaggle.com/c/titanic"
      ]
    },
    {
      "cell_type": "markdown",
      "metadata": {
        "id": "yw6wm2MeX_hX",
        "colab_type": "text"
      },
      "source": [
        "# 1. Load libraries"
      ]
    },
    {
      "cell_type": "code",
      "metadata": {
        "id": "ZewaUeEmXLzK",
        "colab_type": "code",
        "colab": {}
      },
      "source": [
        "import numpy as np\n",
        "import pandas as pd\n",
        "from sklearn.ensemble import RandomForestClassifier\n",
        "from sklearn.model_selection import train_test_split\n",
        "from sklearn.model_selection import KFold"
      ],
      "execution_count": 0,
      "outputs": []
    },
    {
      "cell_type": "markdown",
      "metadata": {
        "id": "Ys_qE3lOZAkt",
        "colab_type": "text"
      },
      "source": [
        "# 2. Load dataset"
      ]
    },
    {
      "cell_type": "code",
      "metadata": {
        "id": "KE6BuZdsZFWn",
        "colab_type": "code",
        "colab": {
          "base_uri": "https://localhost:8080/",
          "height": 0
        },
        "outputId": "e3f5511f-a8d1-49c2-c2ea-c3553b06acc3"
      },
      "source": [
        "train = pd.read_csv(\"train.csv\")\n",
        "test = pd.read_csv(\"test.csv\")\n",
        "\n",
        "train.head()"
      ],
      "execution_count": 2,
      "outputs": [
        {
          "output_type": "execute_result",
          "data": {
            "text/html": [
              "<div>\n",
              "<style scoped>\n",
              "    .dataframe tbody tr th:only-of-type {\n",
              "        vertical-align: middle;\n",
              "    }\n",
              "\n",
              "    .dataframe tbody tr th {\n",
              "        vertical-align: top;\n",
              "    }\n",
              "\n",
              "    .dataframe thead th {\n",
              "        text-align: right;\n",
              "    }\n",
              "</style>\n",
              "<table border=\"1\" class=\"dataframe\">\n",
              "  <thead>\n",
              "    <tr style=\"text-align: right;\">\n",
              "      <th></th>\n",
              "      <th>PassengerId</th>\n",
              "      <th>Survived</th>\n",
              "      <th>Pclass</th>\n",
              "      <th>Name</th>\n",
              "      <th>Sex</th>\n",
              "      <th>Age</th>\n",
              "      <th>SibSp</th>\n",
              "      <th>Parch</th>\n",
              "      <th>Ticket</th>\n",
              "      <th>Fare</th>\n",
              "      <th>Cabin</th>\n",
              "      <th>Embarked</th>\n",
              "    </tr>\n",
              "  </thead>\n",
              "  <tbody>\n",
              "    <tr>\n",
              "      <th>0</th>\n",
              "      <td>1</td>\n",
              "      <td>0</td>\n",
              "      <td>3</td>\n",
              "      <td>Braund, Mr. Owen Harris</td>\n",
              "      <td>male</td>\n",
              "      <td>22.0</td>\n",
              "      <td>1</td>\n",
              "      <td>0</td>\n",
              "      <td>A/5 21171</td>\n",
              "      <td>7.2500</td>\n",
              "      <td>NaN</td>\n",
              "      <td>S</td>\n",
              "    </tr>\n",
              "    <tr>\n",
              "      <th>1</th>\n",
              "      <td>2</td>\n",
              "      <td>1</td>\n",
              "      <td>1</td>\n",
              "      <td>Cumings, Mrs. John Bradley (Florence Briggs Th...</td>\n",
              "      <td>female</td>\n",
              "      <td>38.0</td>\n",
              "      <td>1</td>\n",
              "      <td>0</td>\n",
              "      <td>PC 17599</td>\n",
              "      <td>71.2833</td>\n",
              "      <td>C85</td>\n",
              "      <td>C</td>\n",
              "    </tr>\n",
              "    <tr>\n",
              "      <th>2</th>\n",
              "      <td>3</td>\n",
              "      <td>1</td>\n",
              "      <td>3</td>\n",
              "      <td>Heikkinen, Miss. Laina</td>\n",
              "      <td>female</td>\n",
              "      <td>26.0</td>\n",
              "      <td>0</td>\n",
              "      <td>0</td>\n",
              "      <td>STON/O2. 3101282</td>\n",
              "      <td>7.9250</td>\n",
              "      <td>NaN</td>\n",
              "      <td>S</td>\n",
              "    </tr>\n",
              "    <tr>\n",
              "      <th>3</th>\n",
              "      <td>4</td>\n",
              "      <td>1</td>\n",
              "      <td>1</td>\n",
              "      <td>Futrelle, Mrs. Jacques Heath (Lily May Peel)</td>\n",
              "      <td>female</td>\n",
              "      <td>35.0</td>\n",
              "      <td>1</td>\n",
              "      <td>0</td>\n",
              "      <td>113803</td>\n",
              "      <td>53.1000</td>\n",
              "      <td>C123</td>\n",
              "      <td>S</td>\n",
              "    </tr>\n",
              "    <tr>\n",
              "      <th>4</th>\n",
              "      <td>5</td>\n",
              "      <td>0</td>\n",
              "      <td>3</td>\n",
              "      <td>Allen, Mr. William Henry</td>\n",
              "      <td>male</td>\n",
              "      <td>35.0</td>\n",
              "      <td>0</td>\n",
              "      <td>0</td>\n",
              "      <td>373450</td>\n",
              "      <td>8.0500</td>\n",
              "      <td>NaN</td>\n",
              "      <td>S</td>\n",
              "    </tr>\n",
              "  </tbody>\n",
              "</table>\n",
              "</div>"
            ],
            "text/plain": [
              "   PassengerId  Survived  Pclass  ...     Fare Cabin  Embarked\n",
              "0            1         0       3  ...   7.2500   NaN         S\n",
              "1            2         1       1  ...  71.2833   C85         C\n",
              "2            3         1       3  ...   7.9250   NaN         S\n",
              "3            4         1       1  ...  53.1000  C123         S\n",
              "4            5         0       3  ...   8.0500   NaN         S\n",
              "\n",
              "[5 rows x 12 columns]"
            ]
          },
          "metadata": {
            "tags": []
          },
          "execution_count": 2
        }
      ]
    },
    {
      "cell_type": "markdown",
      "metadata": {
        "id": "MKRbfjnAetB1",
        "colab_type": "text"
      },
      "source": [
        "# 3. Prepare data"
      ]
    },
    {
      "cell_type": "code",
      "metadata": {
        "id": "8qxKLFpReyni",
        "colab_type": "code",
        "colab": {}
      },
      "source": [
        "vars = ['SEX_BINARY', 'Age']\n",
        "\n",
        "train['Sex'].value_counts()\n",
        "\n",
        "def convertSex(value):\n",
        "  if (value == 'female'):\n",
        "    return 1\n",
        "  return 0\n",
        "\n",
        "train['SEX_BINARY'] = train['Sex'].map(convertSex)\n",
        "test['SEX_BINARY'] = test['Sex'].map(convertSex)\n",
        "\n",
        "# Examples/Outputs\n",
        "x = train[vars]\n",
        "x = x.fillna(-1) # substitute NaN values by -1\n",
        "y = train['Survived']\n"
      ],
      "execution_count": 0,
      "outputs": []
    },
    {
      "cell_type": "markdown",
      "metadata": {
        "id": "mZbupNG3ZEN9",
        "colab_type": "text"
      },
      "source": [
        "# 4. Create model (Random Forest with 100 decision trees)"
      ]
    },
    {
      "cell_type": "code",
      "metadata": {
        "id": "W1THUKlVbxWF",
        "colab_type": "code",
        "colab": {
          "base_uri": "https://localhost:8080/",
          "height": 71
        },
        "outputId": "83847b2d-172b-45e4-d1dd-54e1a8b7c4ff"
      },
      "source": [
        "# Validation set 1 (random split)\n",
        "#np.random.seed(0)\n",
        "#x_train, x_valid, y_train, y_valid = train_test_split(x, y, test_size=0.5)\n",
        "#print(\"Acc: \", np.mean(y_valid == p))\n",
        "\n",
        "# Validation set 2 (cross validation - K-fold)\n",
        "results = []\n",
        "for rep in range(10):\n",
        "  #print(\"Rep:\", rep)\n",
        "  k = KFold(n_splits=5, shuffle=True, random_state=rep)\n",
        "  for examples, outputs in k.split(x):\n",
        "    #print(\"Train: \", examples.shape[0])\n",
        "    #print(\"Valid: \", outputs.shape[0])\n",
        "    #print()\n",
        "    x_train, x_valid = x.iloc[examples], x.iloc[outputs]\n",
        "    y_train, y_valid = y.iloc[examples], y.iloc[outputs]\n",
        "\n",
        "    # 4.1. training\n",
        "    model = RandomForestClassifier(n_estimators=100, n_jobs=-1, random_state=0)\n",
        "    model.fit(x_train, y_train)\n",
        "    p = model.predict(x_valid)\n",
        "\n",
        "    # 4.2. validation\n",
        "    y_valid = np.mean(y_valid == p)\n",
        "    results.append(y_valid)\n",
        "\n",
        "print(\"Acc: \", results)\n",
        "print(\"Acc: \", np.mean(results))"
      ],
      "execution_count": 9,
      "outputs": [
        {
          "output_type": "stream",
          "text": [
            "Acc:  [0.7988826815642458, 0.7359550561797753, 0.7808988764044944, 0.797752808988764, 0.7808988764044944, 0.7374301675977654, 0.7247191011235955, 0.7808988764044944, 0.7921348314606742, 0.7921348314606742, 0.7653631284916201, 0.7865168539325843, 0.7865168539325843, 0.7808988764044944, 0.7640449438202247, 0.7653631284916201, 0.7471910112359551, 0.7808988764044944, 0.7415730337078652, 0.8202247191011236, 0.7988826815642458, 0.797752808988764, 0.7752808988764045, 0.7415730337078652, 0.7471910112359551, 0.7653631284916201, 0.7415730337078652, 0.8370786516853933, 0.7471910112359551, 0.702247191011236, 0.7821229050279329, 0.8146067415730337, 0.7752808988764045, 0.7134831460674157, 0.7247191011235955, 0.7150837988826816, 0.7247191011235955, 0.8370786516853933, 0.8033707865168539, 0.7808988764044944, 0.7597765363128491, 0.7921348314606742, 0.7921348314606742, 0.7696629213483146, 0.7640449438202247, 0.7039106145251397, 0.7584269662921348, 0.7415730337078652, 0.8033707865168539, 0.7921348314606742]\n",
            "Acc:  0.7692593057560732\n"
          ],
          "name": "stdout"
        }
      ]
    },
    {
      "cell_type": "markdown",
      "metadata": {
        "id": "e-cuATLtiJwk",
        "colab_type": "text"
      },
      "source": [
        "# 5. Get results to submission"
      ]
    },
    {
      "cell_type": "code",
      "metadata": {
        "id": "_n3kRGygiOEX",
        "colab_type": "code",
        "colab": {
          "base_uri": "https://localhost:8080/",
          "height": 334
        },
        "outputId": "569d1fc7-7752-4f8b-95e4-42f35e452760"
      },
      "source": [
        "#sub = pd.Series(p, index=test['PassengerId'], name='Survived')\n",
        "#sub.shape\n",
        "#sub.to_csv(\"Titanic1.csv\", header=True)\n",
        "#!head -n10 Titanic1.csv"
      ],
      "execution_count": 10,
      "outputs": [
        {
          "output_type": "error",
          "ename": "ValueError",
          "evalue": "ignored",
          "traceback": [
            "\u001b[0;31m---------------------------------------------------------------------------\u001b[0m",
            "\u001b[0;31mValueError\u001b[0m                                Traceback (most recent call last)",
            "\u001b[0;32m<ipython-input-10-a8ac0876013f>\u001b[0m in \u001b[0;36m<module>\u001b[0;34m()\u001b[0m\n\u001b[0;32m----> 1\u001b[0;31m \u001b[0msub\u001b[0m \u001b[0;34m=\u001b[0m \u001b[0mpd\u001b[0m\u001b[0;34m.\u001b[0m\u001b[0mSeries\u001b[0m\u001b[0;34m(\u001b[0m\u001b[0mp\u001b[0m\u001b[0;34m,\u001b[0m \u001b[0mindex\u001b[0m\u001b[0;34m=\u001b[0m\u001b[0mtest\u001b[0m\u001b[0;34m[\u001b[0m\u001b[0;34m'PassengerId'\u001b[0m\u001b[0;34m]\u001b[0m\u001b[0;34m,\u001b[0m \u001b[0mname\u001b[0m\u001b[0;34m=\u001b[0m\u001b[0;34m'Survived'\u001b[0m\u001b[0;34m)\u001b[0m\u001b[0;34m\u001b[0m\u001b[0;34m\u001b[0m\u001b[0m\n\u001b[0m\u001b[1;32m      2\u001b[0m \u001b[0msub\u001b[0m\u001b[0;34m.\u001b[0m\u001b[0mshape\u001b[0m\u001b[0;34m\u001b[0m\u001b[0;34m\u001b[0m\u001b[0m\n\u001b[1;32m      3\u001b[0m \u001b[0msub\u001b[0m\u001b[0;34m.\u001b[0m\u001b[0mto_csv\u001b[0m\u001b[0;34m(\u001b[0m\u001b[0;34m\"Titanic1.csv\"\u001b[0m\u001b[0;34m,\u001b[0m \u001b[0mheader\u001b[0m\u001b[0;34m=\u001b[0m\u001b[0;32mTrue\u001b[0m\u001b[0;34m)\u001b[0m\u001b[0;34m\u001b[0m\u001b[0;34m\u001b[0m\u001b[0m\n\u001b[1;32m      4\u001b[0m \u001b[0mget_ipython\u001b[0m\u001b[0;34m(\u001b[0m\u001b[0;34m)\u001b[0m\u001b[0;34m.\u001b[0m\u001b[0msystem\u001b[0m\u001b[0;34m(\u001b[0m\u001b[0;34m'head -n10 Titanic1.csv'\u001b[0m\u001b[0;34m)\u001b[0m\u001b[0;34m\u001b[0m\u001b[0;34m\u001b[0m\u001b[0m\n",
            "\u001b[0;32m/usr/local/lib/python3.6/dist-packages/pandas/core/series.py\u001b[0m in \u001b[0;36m__init__\u001b[0;34m(self, data, index, dtype, name, copy, fastpath)\u001b[0m\n\u001b[1;32m    290\u001b[0m                     \u001b[0;32mif\u001b[0m \u001b[0mlen\u001b[0m\u001b[0;34m(\u001b[0m\u001b[0mindex\u001b[0m\u001b[0;34m)\u001b[0m \u001b[0;34m!=\u001b[0m \u001b[0mlen\u001b[0m\u001b[0;34m(\u001b[0m\u001b[0mdata\u001b[0m\u001b[0;34m)\u001b[0m\u001b[0;34m:\u001b[0m\u001b[0;34m\u001b[0m\u001b[0;34m\u001b[0m\u001b[0m\n\u001b[1;32m    291\u001b[0m                         raise ValueError(\n\u001b[0;32m--> 292\u001b[0;31m                             \u001b[0;34mf\"Length of passed values is {len(data)}, \"\u001b[0m\u001b[0;34m\u001b[0m\u001b[0;34m\u001b[0m\u001b[0m\n\u001b[0m\u001b[1;32m    293\u001b[0m                             \u001b[0;34mf\"index implies {len(index)}.\"\u001b[0m\u001b[0;34m\u001b[0m\u001b[0;34m\u001b[0m\u001b[0m\n\u001b[1;32m    294\u001b[0m                         )\n",
            "\u001b[0;31mValueError\u001b[0m: Length of passed values is 178, index implies 418."
          ]
        }
      ]
    }
  ]
}